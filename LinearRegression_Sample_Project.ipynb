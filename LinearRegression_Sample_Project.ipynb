{
 "cells": [
  {
   "cell_type": "markdown",
   "id": "5fc1c317",
   "metadata": {},
   "source": [
    "### Linear regression\n",
    "\n",
    "Problem statement\n",
    "\n",
    "A company is trying to decide whether to focus their efforts on their mobile app experience or their website. Help the company to take a decision using data driven models"
   ]
  },
  {
   "cell_type": "code",
   "execution_count": 34,
   "id": "d2391099",
   "metadata": {},
   "outputs": [],
   "source": [
    "import numpy as np\n",
    "import pandas as pd\n",
    "import os\n",
    "import matplotlib.pyplot as plt\n",
    "import seaborn as sns\n",
    "from sklearn.model_selection import train_test_split\n",
    "from sklearn.linear_model import LinearRegression\n",
    "from sklearn import metrics\n",
    "from sklearn.metrics import r2_score"
   ]
  },
  {
   "cell_type": "code",
   "execution_count": 3,
   "id": "ef1e4d88",
   "metadata": {},
   "outputs": [],
   "source": [
    "## Set working directory\n",
    "os.chdir(r'C:\\Users\\rahul.padinjarayil\\Downloads')"
   ]
  },
  {
   "cell_type": "code",
   "execution_count": 10,
   "id": "90d18344",
   "metadata": {},
   "outputs": [],
   "source": [
    "customer_data = pd.read_csv('Ecommerce Customers.csv')"
   ]
  },
  {
   "cell_type": "code",
   "execution_count": 56,
   "id": "f7b44c3a",
   "metadata": {},
   "outputs": [
    {
     "data": {
      "text/html": [
       "<div>\n",
       "<style scoped>\n",
       "    .dataframe tbody tr th:only-of-type {\n",
       "        vertical-align: middle;\n",
       "    }\n",
       "\n",
       "    .dataframe tbody tr th {\n",
       "        vertical-align: top;\n",
       "    }\n",
       "\n",
       "    .dataframe thead th {\n",
       "        text-align: right;\n",
       "    }\n",
       "</style>\n",
       "<table border=\"1\" class=\"dataframe\">\n",
       "  <thead>\n",
       "    <tr style=\"text-align: right;\">\n",
       "      <th></th>\n",
       "      <th>Email</th>\n",
       "      <th>Address</th>\n",
       "      <th>Avg. Session Length</th>\n",
       "      <th>Time on App</th>\n",
       "      <th>Time on Website</th>\n",
       "      <th>Length of Membership</th>\n",
       "      <th>Yearly Amount Spent</th>\n",
       "    </tr>\n",
       "  </thead>\n",
       "  <tbody>\n",
       "    <tr>\n",
       "      <th>0</th>\n",
       "      <td>mstephenson@fernandez.com</td>\n",
       "      <td>835 Frank Tunnel\\nWrightmouth, MI 82180-9605</td>\n",
       "      <td>34.497268</td>\n",
       "      <td>12.655651</td>\n",
       "      <td>39.577668</td>\n",
       "      <td>4.082621</td>\n",
       "      <td>587.951054</td>\n",
       "    </tr>\n",
       "    <tr>\n",
       "      <th>1</th>\n",
       "      <td>hduke@hotmail.com</td>\n",
       "      <td>4547 Archer Common\\nDiazchester, CA 06566-8576</td>\n",
       "      <td>31.926272</td>\n",
       "      <td>11.109461</td>\n",
       "      <td>37.268959</td>\n",
       "      <td>2.664034</td>\n",
       "      <td>392.204933</td>\n",
       "    </tr>\n",
       "    <tr>\n",
       "      <th>2</th>\n",
       "      <td>pallen@yahoo.com</td>\n",
       "      <td>24645 Valerie Unions Suite 582\\nCobbborough, D...</td>\n",
       "      <td>33.000915</td>\n",
       "      <td>11.330278</td>\n",
       "      <td>37.110597</td>\n",
       "      <td>4.104543</td>\n",
       "      <td>487.547505</td>\n",
       "    </tr>\n",
       "    <tr>\n",
       "      <th>3</th>\n",
       "      <td>riverarebecca@gmail.com</td>\n",
       "      <td>1414 David Throughway\\nPort Jason, OH 22070-1220</td>\n",
       "      <td>34.305557</td>\n",
       "      <td>12.049861</td>\n",
       "      <td>36.721283</td>\n",
       "      <td>3.120179</td>\n",
       "      <td>581.852344</td>\n",
       "    </tr>\n",
       "    <tr>\n",
       "      <th>4</th>\n",
       "      <td>mstephens@davidson-herman.com</td>\n",
       "      <td>14023 Rodriguez Passage\\nPort Jacobville, PR 3...</td>\n",
       "      <td>33.330673</td>\n",
       "      <td>12.795189</td>\n",
       "      <td>37.536653</td>\n",
       "      <td>4.446308</td>\n",
       "      <td>599.406092</td>\n",
       "    </tr>\n",
       "  </tbody>\n",
       "</table>\n",
       "</div>"
      ],
      "text/plain": [
       "                           Email  \\\n",
       "0      mstephenson@fernandez.com   \n",
       "1              hduke@hotmail.com   \n",
       "2               pallen@yahoo.com   \n",
       "3        riverarebecca@gmail.com   \n",
       "4  mstephens@davidson-herman.com   \n",
       "\n",
       "                                             Address  Avg. Session Length  \\\n",
       "0       835 Frank Tunnel\\nWrightmouth, MI 82180-9605            34.497268   \n",
       "1     4547 Archer Common\\nDiazchester, CA 06566-8576            31.926272   \n",
       "2  24645 Valerie Unions Suite 582\\nCobbborough, D...            33.000915   \n",
       "3   1414 David Throughway\\nPort Jason, OH 22070-1220            34.305557   \n",
       "4  14023 Rodriguez Passage\\nPort Jacobville, PR 3...            33.330673   \n",
       "\n",
       "   Time on App  Time on Website  Length of Membership  Yearly Amount Spent  \n",
       "0    12.655651        39.577668              4.082621           587.951054  \n",
       "1    11.109461        37.268959              2.664034           392.204933  \n",
       "2    11.330278        37.110597              4.104543           487.547505  \n",
       "3    12.049861        36.721283              3.120179           581.852344  \n",
       "4    12.795189        37.536653              4.446308           599.406092  "
      ]
     },
     "execution_count": 56,
     "metadata": {},
     "output_type": "execute_result"
    }
   ],
   "source": [
    "customer_data.head()"
   ]
  },
  {
   "cell_type": "markdown",
   "id": "f1405313",
   "metadata": {},
   "source": [
    "### EDA steps"
   ]
  },
  {
   "cell_type": "code",
   "execution_count": 14,
   "id": "9d2376e2",
   "metadata": {},
   "outputs": [
    {
     "name": "stdout",
     "output_type": "stream",
     "text": [
      "<class 'pandas.core.frame.DataFrame'>\n",
      "RangeIndex: 500 entries, 0 to 499\n",
      "Data columns (total 7 columns):\n",
      " #   Column                Non-Null Count  Dtype  \n",
      "---  ------                --------------  -----  \n",
      " 0   Email                 500 non-null    object \n",
      " 1   Address               500 non-null    object \n",
      " 2   Avg. Session Length   500 non-null    float64\n",
      " 3   Time on App           498 non-null    float64\n",
      " 4   Time on Website       500 non-null    float64\n",
      " 5   Length of Membership  500 non-null    float64\n",
      " 6   Yearly Amount Spent   500 non-null    float64\n",
      "dtypes: float64(5), object(2)\n",
      "memory usage: 27.5+ KB\n"
     ]
    }
   ],
   "source": [
    "customer_data.info()"
   ]
  },
  {
   "cell_type": "code",
   "execution_count": null,
   "id": "e0fb26d8",
   "metadata": {},
   "outputs": [],
   "source": [
    "## Treat the missing values with mean"
   ]
  },
  {
   "cell_type": "code",
   "execution_count": 13,
   "id": "867a994b",
   "metadata": {},
   "outputs": [],
   "source": [
    "customer_data['Avg. Session Length'].fillna(np.mean(customer_data['Avg. Session Length']),inplace=True)"
   ]
  },
  {
   "cell_type": "code",
   "execution_count": 15,
   "id": "e1bc0000",
   "metadata": {},
   "outputs": [],
   "source": [
    "customer_data['Time on App'].fillna(np.mean(customer_data['Time on App']),inplace=True)"
   ]
  },
  {
   "cell_type": "code",
   "execution_count": 16,
   "id": "b48ec59b",
   "metadata": {},
   "outputs": [],
   "source": [
    "df = customer_data.drop(['Email','Address'],axis=1)"
   ]
  },
  {
   "cell_type": "code",
   "execution_count": 18,
   "id": "17536932",
   "metadata": {},
   "outputs": [],
   "source": [
    "## Correlation between diffrent features and Target variable"
   ]
  },
  {
   "cell_type": "code",
   "execution_count": 17,
   "id": "7a9c16ce",
   "metadata": {},
   "outputs": [
    {
     "data": {
      "text/plain": [
       "<AxesSubplot:>"
      ]
     },
     "execution_count": 17,
     "metadata": {},
     "output_type": "execute_result"
    },
    {
     "data": {
      "image/png": "[encoded data removed]",
      "text/plain": [
       "<Figure size 432x288 with 2 Axes>"
      ]
     },
     "metadata": {
      "needs_background": "light"
     },
     "output_type": "display_data"
    }
   ],
   "source": [
    "sns.heatmap(df.corr(),cmap = 'Blues', annot=True)"
   ]
  },
  {
   "cell_type": "code",
   "execution_count": 19,
   "id": "887de586",
   "metadata": {},
   "outputs": [],
   "source": [
    "## Model Building"
   ]
  },
  {
   "cell_type": "code",
   "execution_count": 20,
   "id": "5f0da9a3",
   "metadata": {},
   "outputs": [],
   "source": [
    "X = customer_data[['Avg. Session Length', 'Time on App',\n",
    "       'Time on Website', 'Length of Membership']]\n",
    "y= customer_data['Yearly Amount Spent']"
   ]
  },
  {
   "cell_type": "code",
   "execution_count": 47,
   "id": "5191b5c6",
   "metadata": {},
   "outputs": [],
   "source": [
    "X_train, X_test, y_train, y_test = train_test_split(X, y, test_size=0.2, random_state=101)"
   ]
  },
  {
   "cell_type": "code",
   "execution_count": 48,
   "id": "7aebcb55",
   "metadata": {},
   "outputs": [],
   "source": [
    "LR = LinearRegression()"
   ]
  },
  {
   "cell_type": "code",
   "execution_count": 49,
   "id": "8c234bcd",
   "metadata": {},
   "outputs": [
    {
     "data": {
      "text/plain": [
       "LinearRegression()"
      ]
     },
     "execution_count": 49,
     "metadata": {},
     "output_type": "execute_result"
    }
   ],
   "source": [
    "LR.fit(X_train,y_train)"
   ]
  },
  {
   "cell_type": "code",
   "execution_count": 50,
   "id": "0654b6fd",
   "metadata": {},
   "outputs": [
    {
     "data": {
      "text/plain": [
       "array([26.18735662, 38.65475567,  0.27709407, 61.38934106])"
      ]
     },
     "execution_count": 50,
     "metadata": {},
     "output_type": "execute_result"
    }
   ],
   "source": [
    "LR.coef_"
   ]
  },
  {
   "cell_type": "code",
   "execution_count": 30,
   "id": "8221c87a",
   "metadata": {},
   "outputs": [],
   "source": [
    "## Prediction on test data set"
   ]
  },
  {
   "cell_type": "code",
   "execution_count": 51,
   "id": "06ef16de",
   "metadata": {},
   "outputs": [],
   "source": [
    "y_pred_test = LR.predict(X_test)"
   ]
  },
  {
   "cell_type": "code",
   "execution_count": 52,
   "id": "99a76489",
   "metadata": {},
   "outputs": [
    {
     "name": "stdout",
     "output_type": "stream",
     "text": [
      "Train Data R-square:  0.9800814275196967\n"
     ]
    }
   ],
   "source": [
    "## R - sqaure for Train data set\n",
    "y_pred_train = LR.predict(X_train)\n",
    "print(\"Train Data R-square: \" ,r2_score(y_train,y_pred_train))"
   ]
  },
  {
   "cell_type": "code",
   "execution_count": 53,
   "id": "5a00db2a",
   "metadata": {},
   "outputs": [
    {
     "name": "stdout",
     "output_type": "stream",
     "text": [
      "Test Data R-square:  0.9861184872731278\n"
     ]
    }
   ],
   "source": [
    "print(\"Test Data R-square: \" ,r2_score(y_test,y_pred_test))"
   ]
  },
  {
   "cell_type": "code",
   "execution_count": 54,
   "id": "4f3e1476",
   "metadata": {},
   "outputs": [
    {
     "data": {
      "text/html": [
       "<div>\n",
       "<style scoped>\n",
       "    .dataframe tbody tr th:only-of-type {\n",
       "        vertical-align: middle;\n",
       "    }\n",
       "\n",
       "    .dataframe tbody tr th {\n",
       "        vertical-align: top;\n",
       "    }\n",
       "\n",
       "    .dataframe thead th {\n",
       "        text-align: right;\n",
       "    }\n",
       "</style>\n",
       "<table border=\"1\" class=\"dataframe\">\n",
       "  <thead>\n",
       "    <tr style=\"text-align: right;\">\n",
       "      <th></th>\n",
       "      <th>Coeffecient</th>\n",
       "    </tr>\n",
       "  </thead>\n",
       "  <tbody>\n",
       "    <tr>\n",
       "      <th>Avg. Session Length</th>\n",
       "      <td>26.187357</td>\n",
       "    </tr>\n",
       "    <tr>\n",
       "      <th>Time on App</th>\n",
       "      <td>38.654756</td>\n",
       "    </tr>\n",
       "    <tr>\n",
       "      <th>Time on Website</th>\n",
       "      <td>0.277094</td>\n",
       "    </tr>\n",
       "    <tr>\n",
       "      <th>Length of Membership</th>\n",
       "      <td>61.389341</td>\n",
       "    </tr>\n",
       "  </tbody>\n",
       "</table>\n",
       "</div>"
      ],
      "text/plain": [
       "                      Coeffecient\n",
       "Avg. Session Length     26.187357\n",
       "Time on App             38.654756\n",
       "Time on Website          0.277094\n",
       "Length of Membership    61.389341"
      ]
     },
     "execution_count": 54,
     "metadata": {},
     "output_type": "execute_result"
    }
   ],
   "source": [
    "coeffecients = pd.DataFrame(LR.coef_,X.columns)\n",
    "coeffecients.columns = ['Coeffecient']\n",
    "coeffecients"
   ]
  },
  {
   "cell_type": "markdown",
   "id": "46a532c5",
   "metadata": {},
   "source": [
    "### Conclusion\n",
    "These numbers mean that holding all other features fixed, a 1 unit increase in Avg. Session Length will lead to an increase in $25.98 in Yearly Amount Spent, and similarly for the other features\n",
    "\n",
    "So as Time on App is a much more significant factor than Time on Website, the company could focus all the attention into the App as that is what is bringing the most money in"
   ]
  }
 ],
 "metadata": {
  "kernelspec": {
   "display_name": "Python 3 (ipykernel)",
   "language": "python",
   "name": "python3"
  },
  "language_info": {
   "codemirror_mode": {
    "name": "ipython",
    "version": 3
   },
   "file_extension": ".py",
   "mimetype": "text/x-python",
   "name": "python",
   "nbconvert_exporter": "python",
   "pygments_lexer": "ipython3",
   "version": "3.9.12"
  }
 },
 "nbformat": 4,
 "nbformat_minor": 5
}
